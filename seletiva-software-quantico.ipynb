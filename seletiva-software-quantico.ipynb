{
 "cells": [
  {
   "cell_type": "markdown",
   "metadata": {},
   "source": [
    "# Biblioteca"
   ]
  },
  {
   "cell_type": "code",
   "execution_count": 1,
   "metadata": {},
   "outputs": [],
   "source": [
    "# qiskit - para computação quântica\n",
    "from qiskit import QuantumCircuit, ClassicalRegister, QuantumRegister # registradores e circuitos quânticos\n",
    "from qiskit.primitives import StatevectorSampler as Sampler # amostragem de vetores de estado\n",
    "from qiskit.circuit.library import UnitaryGate # portas unitárias\n",
    "\n",
    "# scipy - para manipulação de matrizes\n",
    "from scipy.linalg import svd # decomposição em valores singulares\n",
    "\n",
    "# numpy - para manipulação de arrays\n",
    "import numpy as np \n",
    "\n",
    "# random - para geração de números aleatórios\n",
    "import random "
   ]
  },
  {
   "cell_type": "markdown",
   "metadata": {},
   "source": [
    "# Quantum State Preparation - QSP"
   ]
  },
  {
   "cell_type": "markdown",
   "metadata": {},
   "source": [
    "Funções para Preparação dos Estados"
   ]
  },
  {
   "cell_type": "code",
   "execution_count": 2,
   "metadata": {},
   "outputs": [],
   "source": [
    "# função para preparar um estado quântico, recebe o circuito, o estado e uma lista com os qubits do circuito\n",
    "# c - circuito quântico\n",
    "# s - estado quântico\n",
    "# q - lista com os qubits do circuito\n",
    "# n - número de qubits\n",
    "# k - metade do número de qubits\n",
    "# U, Vt - matrizes da decomposição em valores singulares\n",
    "def prepare_state(c, s, q):\n",
    "\n",
    "    # fase 1 - preparação dos qubits\n",
    "    n = len(q) # número de qubits\n",
    "\n",
    "    # se n for 1, inicializa o qubit com o estado\n",
    "    if n == 1:\n",
    "        c.initialize(s, q)\n",
    "        return # se n for maior que 1, continua...\n",
    "\n",
    "    # divide o estado em duas partes\n",
    "    k = n // 2 \n",
    "\n",
    "    # reshape do estado para permitir o uso da função svd\n",
    "    dim1 = 2 ** k\n",
    "    dim2 = 2 ** (n - k)\n",
    "    s = s.reshape((dim1, dim2))\n",
    "\n",
    "    # decomposição em valores singulares\n",
    "    U, singular_values, Vt = svd(s)\n",
    "    singular_values = singular_values / np.linalg.norm(singular_values)\n",
    "\n",
    "    # chamada recursiva para preparar metade dos qubits\n",
    "    prepare_state(c, singular_values, q[:k])\n",
    "\n",
    "    # fase 2 - combinação dos qubits\n",
    "    for i in range(k):\n",
    "        c.cx(q[i], q[i + k])\n",
    "\n",
    "    # fase 3 - gate unitária para a matriz U\n",
    "    U_gate = UnitaryGate(U, label=\"U\")\n",
    "    c.append(U_gate, q[:k])\n",
    "\n",
    "    # fase 4 - gate unitária para a matriz Vt\n",
    "    Vt_gate = UnitaryGate(Vt.T.conj(), label=\"Vt\")\n",
    "    c.append(Vt_gate, q[k:])"
   ]
  },
  {
   "cell_type": "code",
   "execution_count": 3,
   "metadata": {},
   "outputs": [],
   "source": [
    "# função para preparar um estado quântico arbitrário\n",
    "# n - número de qubits\n",
    "# s - vetor de amplitudes do estado\n",
    "# c - circuito quântico\n",
    "def prepare_arbitrary_state(n, s):\n",
    "    c = QuantumCircuit(n) # cria um circuito quântico com n qubits\n",
    "\n",
    "    # chama a função prepare_state para preparar o estado\n",
    "    prepare_state(c, s, list(range(n)))\n",
    "\n",
    "    return c # retorna o circuito"
   ]
  },
  {
   "cell_type": "markdown",
   "metadata": {},
   "source": [
    "Gerador de Amplitude Aleatória"
   ]
  },
  {
   "cell_type": "code",
   "execution_count": 4,
   "metadata": {},
   "outputs": [],
   "source": [
    "# função para gerar um vetor de estado aleatório\n",
    "# n - número de qubits\n",
    "# s - vetor de amplitudes do estado\n",
    "def gen_random_state(n):\n",
    "    # gera um vetor de estado aleatório\n",
    "    s = np.random.rand(2**n) + 1j * np.random.rand(2**n)  \n",
    "    s = s / np.linalg.norm(s) \n",
    "\n",
    "    return s # retorna o vetor de estado"
   ]
  },
  {
   "cell_type": "markdown",
   "metadata": {},
   "source": [
    "# Quantum Error Correction - QEC"
   ]
  },
  {
   "cell_type": "markdown",
   "metadata": {},
   "source": [
    "Medição de Estados"
   ]
  },
  {
   "cell_type": "code",
   "execution_count": 5,
   "metadata": {},
   "outputs": [],
   "source": [
    "# ignora a medição para gerar circuitos maiores\n",
    "ignore_measuring = False\n",
    "\n",
    "# função para medir o estado atual\n",
    "# c - circuito quântico\n",
    "# n - número de qubits\n",
    "# m - cópia do circuito original feito para medição\n",
    "# sp - statevector sampler\n",
    "# r - resultado da medição\n",
    "# e - execução do circuito\n",
    "def measure_current_state(c, n):\n",
    "    if ignore_measuring:\n",
    "        return\n",
    "    \n",
    "    # cria um circuito de measure que copia o circuito original para testar sem alterar o original\n",
    "    m = c.copy()\n",
    "\n",
    "    # registrador classico    \n",
    "    reg = ClassicalRegister(n, \"registrador\")\n",
    "    m.add_register(reg) # adiciona o registrador ao circuito\n",
    "    \n",
    "    # mede n qubits \n",
    "    for i in range(n):\n",
    "        m.measure(i, reg[i])\n",
    "\n",
    "    # executa o circuito\n",
    "    sp = Sampler()\n",
    "    e = sp.run([m])\n",
    "    r = e.result() # coleta o resultado da medição\n",
    "    \n",
    "    print(r[0].data.registrador.get_counts()) # imprime o resultado da medição\n",
    "    print(\"\")"
   ]
  },
  {
   "cell_type": "markdown",
   "metadata": {},
   "source": [
    "Função de Codificação de Shor"
   ]
  },
  {
   "cell_type": "code",
   "execution_count": 142,
   "metadata": {},
   "outputs": [],
   "source": [
    "# função para codificar um qubit em um estado de 9 qubits como descrito no artigo\n",
    "# c - circuito quântico\n",
    "# n - número de qubits\n",
    "# extra_q - registrador extra\n",
    "def encode_qubit(c, n):\n",
    "\n",
    "    # cria um registrador extra\n",
    "    extra_q = QuantumRegister(8*n, name=\"extra_q\")  \n",
    "    c.add_register(extra_q) # adiciona o registrador ao circuito\n",
    "     \n",
    "    # codifica n qubits em estados de 9 qubits cada\n",
    "    for i in range(n):\n",
    "\n",
    "        c.cx(i,8*i + 3 + (n-1))\n",
    "        c.cx(i,8*i + 6 + (n-1))\n",
    "\n",
    "        #c.h(i)\n",
    "        #c.h(8*i + 3 + (n-1))\n",
    "        #c.h(8*i + 6 + (n-1))\n",
    "\n",
    "        c.cx(i,8*i + 1 + (n-1))\n",
    "        c.cx(8*i + 3 + (n-1),8*i + 4 + (n-1))\n",
    "        c.cx(8*i + 6 + (n-1),8*i + 7 + (n-1))\n",
    "\n",
    "        c.cx(i,8*i + 2 + (n-1))\n",
    "        c.cx(8*i + 3 + (n-1),8*i + 5 + (n-1))\n",
    "        c.cx(8*i + 6 + (n-1),8*i + 8 + (n-1))\n",
    "        \n",
    "        c.barrier()\n",
    "\n",
    "    return c # retorna o circuito após aplicar vários CNOTS e HADAMARDS"
   ]
  },
  {
   "cell_type": "markdown",
   "metadata": {},
   "source": [
    "Função de Aplicar Erro Aleatório"
   ]
  },
  {
   "cell_type": "code",
   "execution_count": 7,
   "metadata": {},
   "outputs": [],
   "source": [
    "# função para aplicar um erro aleatório em um dos qubits\n",
    "# c - circuito quântico\n",
    "# n - número de qubits\n",
    "# error_q - qubit que receberá o erro\n",
    "# error - tipo de erro (x ou z)\n",
    "def apply_random_error(c, n):\n",
    "    error_q = random.randint(0, (n*9)-1) # escolhe um qubit aleatório para receber o erro\n",
    "    error = random.choice(['x', 'z']) # escolhe um erro aleatório (x ou z)\n",
    "    \n",
    "    # aplica o erro no qubit escolhido\n",
    "    if error == 'x':\n",
    "        c.x(error_q) # aplica a porta X no circuito\n",
    "    else:\n",
    "        c.z(error_q) # aplica a porta Z no circuito\n",
    "\n",
    "    # coloca uma barreira no circuito\n",
    "    c.barrier()\n",
    "\n",
    "    # retorna o circuito com o erro aplicado\n",
    "    return c"
   ]
  },
  {
   "cell_type": "markdown",
   "metadata": {},
   "source": [
    "Extração de Síndrome"
   ]
  },
  {
   "cell_type": "code",
   "execution_count": 92,
   "metadata": {},
   "outputs": [],
   "source": [
    "# função para extrair o síndrome de um estado de 9 qubits\n",
    "# c - circuito quântico\n",
    "# sp - statevector sampler\n",
    "# syn_anc_x - síndrome X\n",
    "# syn_anc_z - síndrome Z\n",
    "# syn_cr_x - registrador clássico para o síndrome X\n",
    "# syn_cr_z - registrador clássico para o síndrome Z\n",
    "# l_syn_x - lista de síndromes X\n",
    "# l_syn_z - lista de síndromes Z\n",
    "def extract_syndrome(c):\n",
    "    sp = Sampler() \n",
    "\n",
    "    # cria os registradores para o síndrome\n",
    "    syn_anc_x = QuantumRegister(3, name=\"syn_x\")  \n",
    "    syn_anc_z = QuantumRegister(3, name=\"syn_z\") \n",
    "    syn_cr_x  = ClassicalRegister(3, name=\"syn_cx\")\n",
    "    syn_cr_z  = ClassicalRegister(3, name=\"syn_cz\")\n",
    "    \n",
    "    # adiciona os registradores ao circuito\n",
    "    c.add_register(syn_anc_x)\n",
    "    c.add_register(syn_anc_z)\n",
    "    c.add_register(syn_cr_x)\n",
    "    c.add_register(syn_cr_z)\n",
    "\n",
    "    # listas para armazenar as síndromes\n",
    "    l_syn_x = []\n",
    "    l_syn_z = []\n",
    "    \n",
    "    # extrai o síndrome de cada qubit\n",
    "    for j in range(3):\n",
    "        b = j * 3\n",
    "\n",
    "        ###### X ########\n",
    "        c.cx(c.qubits[b],   syn_anc_x[j])\n",
    "        c.cx(c.qubits[b+1], syn_anc_x[j])\n",
    "        c.cx(c.qubits[b+2], syn_anc_x[j])\n",
    "\n",
    "        copy_c = c.copy()\n",
    "        copy_c.measure(syn_anc_x[j], syn_cr_x[j])\n",
    "\n",
    "        e = sp.run([copy_c])\n",
    "        result = e.result()      \n",
    "        \n",
    "        l_syn_x.append(result[0].data.syn_cx.get_counts())\n",
    "        l_syn_z.append(result[0].data.syn_cz.get_counts())\n",
    "        \n",
    "        c.barrier()###### \n",
    "\n",
    "        ###### Z ########\n",
    "        c.h(c.qubits[b])\n",
    "        c.h(c.qubits[b+1])\n",
    "        c.h(c.qubits[b+2])\n",
    "\n",
    "        c.cx(c.qubits[b],   syn_anc_z[j])\n",
    "        c.cx(c.qubits[b+1], syn_anc_z[j])\n",
    "        c.cx(c.qubits[b+2], syn_anc_z[j])\n",
    "\n",
    "        c.h(syn_anc_z[j])\n",
    "\n",
    "        copy_c = c.copy()\n",
    "        copy_c.measure(syn_anc_z[j], syn_cr_z[j])\n",
    "\n",
    "        e = sp.run([copy_c])\n",
    "        result = e.result()       \n",
    "        \n",
    "        l_syn_x.append(result[0].data.syn_cx.get_counts())\n",
    "        l_syn_z.append(result[0].data.syn_cz.get_counts())\n",
    "\n",
    "        c.barrier()######\n",
    "\n",
    "    # retorna o circuito e as listas de síndromes\n",
    "    return c, l_syn_x, l_syn_z"
   ]
  },
  {
   "cell_type": "markdown",
   "metadata": {},
   "source": [
    "Corrigir Erros"
   ]
  },
  {
   "cell_type": "code",
   "execution_count": 96,
   "metadata": {},
   "outputs": [],
   "source": [
    "# função para corrigir um erro em um estado de 9 qubits\n",
    "# c - circuito quântico\n",
    "# n - número de qubits\n",
    "# syn_x - síndrome X\n",
    "# syn_z - síndrome Z\n",
    "# b_block - bloco de bits\n",
    "def correct_error(c, n, syn_x, syn_z):\n",
    "    \n",
    "    # função para extrair o bit de erro\n",
    "    def extract_error_bit(d):\n",
    "        outcome = max(d, key=d.get)\n",
    "        return 0 if outcome == \"000\" else 1\n",
    "\n",
    "    # corrige o erro em cada qubit\n",
    "    for logical in range(n):\n",
    "        \n",
    "        b_block = logical * 9\n",
    "\n",
    "        for j in range(3):\n",
    "            idx1 = logical * 6 + 2 * j\n",
    "            idx2 = logical * 6 + 2 * j + 1\n",
    "            \n",
    "            error_bit_x = 1 if (extract_error_bit(syn_x[idx1]) or extract_error_bit(syn_x[idx2])) else 0\n",
    "            error_bit_z = 1 if (extract_error_bit(syn_z[idx1]) or extract_error_bit(syn_z[idx2])) else 0\n",
    "            \n",
    "            block_start = b_block + j * 3\n",
    "            \n",
    "            if error_bit_x:\n",
    "                c.x(c.qubits[block_start])\n",
    "            if error_bit_z:\n",
    "                c.z(c.qubits[block_start])\n",
    "    \n",
    "    ##############################\n",
    "    \n",
    "    c.barrier() # coloca uma barreira no circuito\n",
    "\n",
    "    return c\n"
   ]
  },
  {
   "cell_type": "markdown",
   "metadata": {},
   "source": [
    "Função de Decodificação de Shor"
   ]
  },
  {
   "cell_type": "code",
   "execution_count": 141,
   "metadata": {},
   "outputs": [],
   "source": [
    "# função para decodificar um qubit de 9 qubits\n",
    "# c - circuito quântico\n",
    "# n - número de qubits\n",
    "def decode_qubit(c, n):\n",
    "\n",
    "    for i in range(n): \n",
    "        c.cx(i, i*8 + n) \n",
    "        \n",
    "        c.cx(i*8 + n + 2, i*8 + n + 3) \n",
    "        c.cx(i*8 + n + 5, i*8 + n + 6) \n",
    "\n",
    "        c.cx(i, i*8 + n + 1)\n",
    "\n",
    "        c.cx(i*8 + n + 2, i*8 + n + 4) \n",
    "        c.cx(i*8 + n + 5, i*8 + n + 7) \n",
    "\n",
    "        c.ccx(i*8 + n, i*8 + n + 1, i) \n",
    "        c.ccx(i*8 + n + 4, i*8 + n + 3, i*8 + n + 2) \n",
    "        c.ccx(i*8 + n + 7, i*8 + n + 6, i*8 + n + 5) \n",
    "\n",
    "        #c.h(i) \n",
    "        #c.h(i*8 + n + 2)\n",
    "        #c.h(i*8 + n + 5)\n",
    "\n",
    "        c.cx(i, i*8 + n + 2) \n",
    "        c.cx(i, i*8 + n + 5) \n",
    "        c.ccx(i*8 + n + 5, i*8 + n + 2, i) \n",
    "\n",
    "        c.barrier()\n",
    "    \n",
    "    return c"
   ]
  },
  {
   "cell_type": "markdown",
   "metadata": {},
   "source": [
    "Controlador do Corretor de Erros Quântico"
   ]
  },
  {
   "cell_type": "code",
   "execution_count": 146,
   "metadata": {},
   "outputs": [],
   "source": [
    "# função de controle\n",
    "# c - circuito quântico\n",
    "# n - número de qubits\n",
    "def qec(c, n):\n",
    "\n",
    "    print(\"Estados iniciais:\")\n",
    "    measure_current_state(c, n)\n",
    "        \n",
    "    ###########################################\n",
    "    #''' Código de Shor\n",
    "    encode_qubit(c, n)\n",
    "\n",
    "    print(\"Estados pós codificação de Shor:\")\n",
    "    measure_current_state(c, n*9)\n",
    "\n",
    "    #'''\n",
    "\n",
    "    ###########################################\n",
    "    #''' Aplicar erro\n",
    "    apply_random_error(c, n)\n",
    "\n",
    "    print(\"Estados pós aplicação de erro:\")\n",
    "    measure_current_state(c, n*9)\n",
    "\n",
    "    #'''\n",
    "\n",
    "    ###########################################\n",
    "    #''' Extração da síndrome\n",
    "    copy_c = c.copy()\n",
    "    _, synX, synZ = extract_syndrome(copy_c)\n",
    "\n",
    "    print(\"Estados pós extração de síndrome:\")\n",
    "    print(\"Síndrome X:\")\n",
    "    print(synX)\n",
    "    print(\"Síndrome Z:\")\n",
    "    print(synZ)\n",
    "    print(\"\")\n",
    "\n",
    "    #'''\n",
    "\n",
    "    ###########################################\n",
    "    #''' Correção do erro\n",
    "    correct_error(c, n, synX, synZ)\n",
    "\n",
    "    print(\"Estados pós correção de erro:\")\n",
    "    measure_current_state(c, n*9)\n",
    "\n",
    "    #'''\n",
    "\n",
    "    ###########################################\n",
    "    #''' Decodificação\n",
    "\n",
    "    print(\"Estados pós decode:\")\n",
    "    decode_qubit(c, n)\n",
    "    measure_current_state(c, n*9)\n",
    "\n",
    "    #'''\n",
    "\n",
    "    ###########################################\n",
    "    #''' Aplicação da Hadamard transversal\n",
    "    # (Preserva a codificação sem decodificar)\n",
    "    hadamard_circuit = c.copy()\n",
    "    for block in range(n):\n",
    "        base = block * 9\n",
    "        hadamard_circuit.h(range(base, base + 9))\n",
    "    \n",
    "    print(\"Estados pós Hadamard transversal:\")\n",
    "    measure_current_state(hadamard_circuit, n*9)\n",
    "    \n",
    "    #'''\n",
    "\n",
    "    ###########################################    \n",
    "    print(\"Estados finais:\")\n",
    "    measure_current_state(c, n)\n",
    "\n",
    "    return c"
   ]
  },
  {
   "cell_type": "markdown",
   "metadata": {},
   "source": [
    "# Aplicações"
   ]
  },
  {
   "cell_type": "markdown",
   "metadata": {},
   "source": [
    "Aplicação QSP"
   ]
  },
  {
   "cell_type": "code",
   "execution_count": 71,
   "metadata": {},
   "outputs": [
    {
     "name": "stdout",
     "output_type": "stream",
     "text": [
      "{'1110': 79, '1111': 121, '1000': 62, '0100': 46, '0110': 105, '0101': 120, '1010': 81, '0011': 47, '1001': 32, '1011': 44, '0000': 124, '1101': 18, '1100': 89, '0111': 15, '0010': 13, '0001': 28}\n",
      "\n"
     ]
    },
    {
     "data": {
      "image/png": "[encoded data removed]",
      "text/plain": [
       "<Figure size 705.552x367.889 with 1 Axes>"
      ]
     },
     "execution_count": 71,
     "metadata": {},
     "output_type": "execute_result"
    }
   ],
   "source": [
    "n = int(input('Insira o número de qubits que quer preparar: ')) # número de qubits\n",
    "\n",
    "# prepara o circuito quântico com o estado e o número de qubits especificados\n",
    "c = prepare_arbitrary_state(n, gen_random_state(n))\n",
    "\n",
    "# mede o estado atual\n",
    "measure_current_state(c, n)\n",
    "\n",
    "# desenha o circuito\n",
    "c.draw('mpl')"
   ]
  },
  {
   "cell_type": "markdown",
   "metadata": {},
   "source": [
    "Aplicação QEC"
   ]
  },
  {
   "cell_type": "code",
   "execution_count": 183,
   "metadata": {},
   "outputs": [
    {
     "name": "stdout",
     "output_type": "stream",
     "text": [
      "Estados iniciais:\n",
      "{'1': 858, '0': 166}\n",
      "\n",
      "Estados pós codificação de Shor:\n",
      "{'111111111': 860, '000000000': 164}\n",
      "\n",
      "Estados pós aplicação de erro:\n",
      "{'111110111': 850, '000001000': 174}\n",
      "\n",
      "Estados pós extração de síndrome:\n",
      "Síndrome X:\n",
      "[{'001': 865, '000': 159}, {'000': 1024}, {'000': 837, '010': 187}, {'000': 1024}, {'000': 161, '100': 863}, {'000': 1024}]\n",
      "Síndrome Z:\n",
      "[{'000': 1024}, {'001': 506, '000': 518}, {'000': 1024}, {'010': 527, '000': 497}, {'000': 1024}, {'000': 511, '100': 513}]\n",
      "\n",
      "Estados pós correção de erro:\n",
      "{'110110110': 856, '001001001': 168}\n",
      "\n",
      "Estados pós decode:\n",
      "{'110110111': 870, '110110110': 154}\n",
      "\n",
      "Estados pós Hadamard transversal:\n",
      "{'011100010': 8, '000001010': 3, '110000000': 9, '011100110': 6, '011101110': 5, '101100010': 3, '111110000': 3, '001010101': 1, '011010110': 3, '101110100': 6, '100001010': 2, '110100000': 4, '110001100': 5, '101001110': 4, '111010000': 3, '000010000': 7, '000010010': 4, '100010000': 3, '011010101': 3, '110001111': 2, '010111111': 2, '101011100': 5, '010101110': 1, '100110000': 3, '011011110': 3, '100010010': 4, '111101000': 5, '101111000': 2, '100101100': 5, '100000000': 4, '100110010': 6, '101010100': 5, '110101100': 2, '110110010': 1, '101110000': 2, '101110110': 6, '110111101': 2, '010110000': 5, '010111110': 3, '011101011': 3, '111111010': 3, '100100000': 7, '111110100': 5, '001101010': 3, '100100110': 4, '010011100': 5, '011010100': 7, '100111010': 3, '011100001': 2, '111001000': 2, '100000100': 3, '111110110': 6, '000111110': 4, '110110110': 5, '101111111': 3, '111000100': 4, '000111101': 1, '000101000': 4, '010101101': 2, '001111011': 1, '000110000': 3, '111000000': 8, '011111010': 7, '101010000': 5, '110111110': 3, '010110100': 2, '011101100': 6, '001010011': 5, '010101000': 6, '101011010': 4, '111111000': 3, '010011101': 4, '011000000': 6, '001111100': 2, '000110110': 2, '110000100': 4, '010100100': 1, '011100000': 2, '101010011': 1, '001011110': 5, '001000110': 6, '000110010': 7, '000001100': 6, '101000001': 1, '000111011': 1, '100011100': 2, '111000010': 4, '001100000': 5, '101101010': 5, '110011000': 3, '000000110': 8, '001011100': 2, '100010101': 1, '010111000': 2, '100001111': 1, '011011000': 4, '001000111': 1, '001101110': 2, '100001000': 6, '000011010': 4, '000010100': 2, '010001000': 7, '001111000': 6, '010011010': 1, '111001110': 3, '000001110': 4, '110010001': 2, '011001110': 3, '010111011': 2, '001101100': 5, '111101010': 7, '101001111': 2, '001001110': 1, '001110110': 3, '011101000': 5, '010101010': 3, '011101010': 4, '111101100': 3, '101100000': 6, '010010000': 5, '111111100': 7, '010001010': 3, '111000011': 2, '010110010': 6, '110101000': 4, '110011100': 3, '100000010': 5, '111101110': 5, '111001010': 4, '000101100': 3, '001101000': 2, '010110110': 3, '110111000': 6, '001001100': 2, '011111100': 3, '100101010': 5, '110010111': 1, '000011000': 2, '100000110': 4, '011010011': 2, '001001000': 1, '001100010': 1, '100111100': 5, '010000110': 3, '111100110': 4, '110001010': 3, '000011101': 1, '101100110': 4, '101101000': 3, '101011110': 4, '010011111': 1, '011110110': 1, '111100000': 5, '011111000': 4, '011001100': 1, '101100101': 2, '101100111': 4, '101000000': 2, '100100101': 1, '110111010': 5, '111010111': 1, '011011011': 1, '010001110': 4, '001111111': 1, '101010110': 5, '110000110': 6, '111010100': 2, '111011110': 4, '111010110': 4, '101001000': 2, '000001000': 5, '001000010': 5, '010011110': 2, '000100010': 4, '010001100': 4, '010010110': 3, '001010000': 2, '100011010': 5, '000000000': 5, '000011100': 4, '011010010': 3, '011111011': 1, '100000111': 1, '100111011': 3, '000100000': 3, '001100100': 8, '001110000': 3, '000111000': 4, '110100100': 1, '100111000': 5, '101101100': 3, '111011100': 3, '010100010': 2, '011101111': 1, '110011110': 3, '011110010': 6, '100010110': 2, '100010111': 2, '110100010': 3, '001110100': 5, '110000010': 1, '100110011': 1, '010000010': 2, '110101010': 6, '100001110': 9, '111100010': 3, '011111111': 3, '111011010': 1, '000010101': 2, '000101010': 3, '000011110': 1, '101111010': 6, '101010010': 4, '111110010': 4, '101101111': 2, '100001100': 6, '001000000': 3, '011000110': 3, '101001100': 5, '100111110': 6, '000000010': 6, '011010000': 3, '001111010': 2, '001011000': 3, '000010110': 4, '000001111': 1, '011111110': 6, '000100110': 3, '000010111': 1, '101011000': 4, '011110011': 1, '010110101': 1, '010010100': 4, '010011000': 2, '101001011': 2, '010010010': 4, '001000100': 2, '101011001': 1, '101101110': 3, '011000100': 4, '010111100': 3, '011011100': 1, '110011101': 1, '000001001': 1, '101000100': 3, '101111101': 1, '000000111': 1, '010101100': 3, '100011000': 1, '001011111': 2, '001010100': 2, '001001101': 1, '101100100': 1, '110001110': 2, '100110100': 2, '010100000': 3, '100100100': 3, '111001100': 3, '011110000': 2, '000100100': 4, '100001001': 1, '110110000': 1, '011100100': 2, '010011011': 1, '011001011': 2, '001111001': 1, '111011000': 2, '000000100': 4, '001010111': 1, '110111100': 2, '000101011': 1, '111100100': 2, '000010001': 1, '010111010': 3, '000110001': 1, '111011011': 1, '100010100': 5, '000110100': 1, '110110100': 1, '010000001': 2, '001001011': 1, '111010010': 3, '111000110': 1, '010000111': 1, '110010110': 1, '110010000': 1, '110011111': 1, '111011101': 1, '110010100': 3, '100101110': 4, '000110111': 2, '010000000': 2, '001010010': 3, '001011011': 1, '101001010': 1, '011011010': 2, '110011010': 3, '110101110': 4, '000100001': 1, '100010001': 1, '100100111': 3, '001011010': 3, '010000100': 2, '001110010': 2, '101010101': 1, '110010010': 1, '110001000': 1, '101111110': 2, '001100110': 5, '000100101': 1, '101110010': 1, '110101011': 1, '110000011': 1, '101111011': 1, '101000111': 2, '100100010': 4, '101001001': 1, '100101000': 1, '101000010': 2, '000101110': 2, '000000001': 1, '110001101': 2, '010110001': 1, '001001010': 2, '010100110': 3, '111100001': 1, '100010011': 1, '110010101': 1, '010010011': 1, '001110011': 1, '011001000': 2, '011010111': 1, '110100110': 1, '111111110': 2, '111101111': 1, '001111110': 1, '010100001': 1, '011001010': 1, '111101011': 1, '110010011': 1, '110011011': 1, '101110101': 1, '010001011': 1, '000011011': 1, '001100111': 1, '001001111': 1, '111011111': 1, '111000111': 1, '101111100': 1, '000111010': 1, '001101101': 1, '110001011': 1}\n",
      "\n",
      "Estados finais:\n",
      "{'1': 880, '0': 144}\n",
      "\n"
     ]
    },
    {
     "data": {
      "image/png": "[encoded data removed]",
      "text/plain": [
       "<Figure size 1883.04x785.944 with 1 Axes>"
      ]
     },
     "execution_count": 183,
     "metadata": {},
     "output_type": "execute_result"
    }
   ],
   "source": [
    "# variável para ignorar a medição ou não (True para ignorar)\n",
    "ignore_measuring = False\n",
    "\n",
    "# dificuldade para gerar com qualquer quantidade maior que 1 qubit\n",
    "n = 1 # int(input('Insira o número de qubits que quer preparar: '))  # selecionar o número de qubits\n",
    "\n",
    "# prepara o estado aleatório com n qubits\n",
    "c = prepare_arbitrary_state(n, gen_random_state(n))\n",
    "\n",
    "qec(c, n) # executa o código de correção de erro\n",
    "\n",
    "# desenhar circuito\n",
    "c.draw('mpl')"
   ]
  }
 ],
 "metadata": {
  "kernelspec": {
   "display_name": "lab",
   "language": "python",
   "name": "python3"
  },
  "language_info": {
   "codemirror_mode": {
    "name": "ipython",
    "version": 3
   },
   "file_extension": ".py",
   "mimetype": "text/x-python",
   "name": "python",
   "nbconvert_exporter": "python",
   "pygments_lexer": "ipython3",
   "version": "3.13.0"
  }
 },
 "nbformat": 4,
 "nbformat_minor": 2
}
