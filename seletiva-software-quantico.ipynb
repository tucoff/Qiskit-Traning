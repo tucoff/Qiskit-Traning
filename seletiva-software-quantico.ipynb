{
 "cells": [
  {
   "cell_type": "markdown",
   "metadata": {},
   "source": [
    "Quantum State Preparation - QSP"
   ]
  },
  {
   "cell_type": "code",
   "execution_count": 87,
   "metadata": {},
   "outputs": [],
   "source": [
    "from qiskit import QuantumCircuit\n",
    "from qiskit.primitives import StatevectorSampler as Sampler\n",
    "from qiskit.quantum_info import Statevector\n",
    "from math import sqrt\n",
    "from numpy.linalg import svd"
   ]
  },
  {
   "cell_type": "code",
   "execution_count": 118,
   "metadata": {},
   "outputs": [
    {
     "name": "stdout",
     "output_type": "stream",
     "text": [
      "[[0.35355339+0.j 0.35355339+0.j 0.        +0.j 0.        +0.j]\n",
      " [0.35355339+0.j 0.35355339+0.j 0.        +0.j 0.        +0.j]\n",
      " [0.        +0.j 0.        +0.j 0.35355339+0.j 0.35355339+0.j]\n",
      " [0.        +0.j 0.        +0.j 0.35355339+0.j 0.35355339+0.j]]\n"
     ]
    },
    {
     "data": {
      "text/html": [
       "<pre style=\"word-wrap: normal;white-space: pre;background: #fff0;line-height: 1.1;font-family: &quot;Courier New&quot;,Courier,monospace\">     »\n",
       "q_0: »\n",
       "     »\n",
       "q_1: »\n",
       "     »\n",
       "q_2: »\n",
       "     »\n",
       "q_3: »\n",
       "     »\n",
       "«     ┌──────────────────────────────────────────────────────────────────────────────────────────────┐»\n",
       "«q_0: ┤0                                                                                             ├»\n",
       "«     │                                                                                              │»\n",
       "«q_1: ┤1                                                                                             ├»\n",
       "«     │  Initialize(0.35355,0.35355,0.35355,0.35355,0.35355,0.35355,0.35355,0.35355,0,0,0,0,0,0,0,0) │»\n",
       "«q_2: ┤2                                                                                             ├»\n",
       "«     │                                                                                              │»\n",
       "«q_3: ┤3                                                                                             ├»\n",
       "«     └──────────────────────────────────────────────────────────────────────────────────────────────┘»\n",
       "«          ┌────────────┐ ┌────┐              ┌────┐\n",
       "«q_0: ──■──┤ Ry(1.4142) ├─┤0   ├──────────────┤0   ├\n",
       "«       │  └────────────┘ │  U │┌────────────┐│  U │\n",
       "«q_1: ──┼────────■────────┤1   ├┤ Ry(1.4142) ├┤1   ├\n",
       "«     ┌─┴─┐      │       ┌┴────┤└──┬─────┬───┘└────┘\n",
       "«q_2: ┤ X ├──────┼───────┤0    ├───┤0    ├──────────\n",
       "«     └───┘    ┌─┴─┐     │  Vh │   │  Vh │          \n",
       "«q_3: ─────────┤ X ├─────┤1    ├───┤1    ├──────────\n",
       "«              └───┘     └─────┘   └─────┘          </pre>"
      ],
      "text/plain": [
       "     »\n",
       "q_0: »\n",
       "     »\n",
       "q_1: »\n",
       "     »\n",
       "q_2: »\n",
       "     »\n",
       "q_3: »\n",
       "     »\n",
       "«     ┌──────────────────────────────────────────────────────────────────────────────────────────────┐»\n",
       "«q_0: ┤0                                                                                             ├»\n",
       "«     │                                                                                              │»\n",
       "«q_1: ┤1                                                                                             ├»\n",
       "«     │  Initialize(0.35355,0.35355,0.35355,0.35355,0.35355,0.35355,0.35355,0.35355,0,0,0,0,0,0,0,0) │»\n",
       "«q_2: ┤2                                                                                             ├»\n",
       "«     │                                                                                              │»\n",
       "«q_3: ┤3                                                                                             ├»\n",
       "«     └──────────────────────────────────────────────────────────────────────────────────────────────┘»\n",
       "«          ┌────────────┐ ┌────┐              ┌────┐\n",
       "«q_0: ──■──┤ Ry(1.4142) ├─┤0   ├──────────────┤0   ├\n",
       "«       │  └────────────┘ │  U │┌────────────┐│  U │\n",
       "«q_1: ──┼────────■────────┤1   ├┤ Ry(1.4142) ├┤1   ├\n",
       "«     ┌─┴─┐      │       ┌┴────┤└──┬─────┬───┘└────┘\n",
       "«q_2: ┤ X ├──────┼───────┤0    ├───┤0    ├──────────\n",
       "«     └───┘    ┌─┴─┐     │  Vh │   │  Vh │          \n",
       "«q_3: ─────────┤ X ├─────┤1    ├───┤1    ├──────────\n",
       "«              └───┘     └─────┘   └─────┘          "
      ]
     },
     "execution_count": 118,
     "metadata": {},
     "output_type": "execute_result"
    }
   ],
   "source": [
    "def preparacao_de_estados(n):\n",
    "    \n",
    "    if n % 2 != 0:\n",
    "        raise ValueError(\"O número de qubits deve ser par.\")\n",
    "    \n",
    "    qc = QuantumCircuit(n)\n",
    "    k = n//2\n",
    "\n",
    "    #-------------------#\n",
    "    # Fase 1\n",
    "          \n",
    "    # Dividir o circuito em 2 grupos de qubits, cada um com k qubits\n",
    "    # a primeira metade com amplitude uniforme e a segunda metade com amplitude 0\n",
    "    alpha = [1/sqrt((2**n)/2)] * (2**(n-1))\n",
    "    statevector = alpha + ([0] * (2**(n-1)))\n",
    "    \n",
    "    # Inicializar o circuito com o estado desejado\n",
    "    qc.initialize(statevector, qc.qubits)\n",
    "\n",
    "    #-------------------#\n",
    "    # Fase 2\n",
    "\n",
    "    # Aplicando cnots para criar um emaranhamento entre os qubits\n",
    "    for i in range(k):\n",
    "        qc.cx(i, i+k)\n",
    "    \n",
    "    #-------------------#\n",
    "    # Fase 3 & 4\n",
    "    # Realizar a decomposição em valores singulares (SVD)\n",
    "\n",
    "    # Coletar a matriz unitaria do circuito quantico\n",
    "    unitary = Statevector.from_instruction(qc).data.reshape(2**k, 2**k)\n",
    "    print(unitary)\n",
    "\n",
    "    # Realizar a SVD\n",
    "    U, S, Vh = svd(unitary)\n",
    "\n",
    "    # Aplicar os componentes do SVD ao circuito quantico\n",
    "    for i in range(k):\n",
    "        qc.ry(2 * S[i], i)\n",
    "        qc.unitary(U, list(range(k)), label='U')\n",
    "        qc.unitary(Vh, list(range(k, n)), label='Vh')\n",
    "\n",
    "    #-------------------#\n",
    "\n",
    "    return qc\n",
    "\n",
    "# Exemplo de uso\n",
    "n = 4\n",
    "qc = preparacao_de_estados(n)\n",
    "qc.draw()"
   ]
  },
  {
   "cell_type": "code",
   "execution_count": 120,
   "metadata": {},
   "outputs": [
    {
     "name": "stdout",
     "output_type": "stream",
     "text": [
      " > Counts: {'1011': 477, '0001': 529, '0000': 9, '1010': 9}\n"
     ]
    }
   ],
   "source": [
    "qc.measure_all()\n",
    "\n",
    "# initialization of the sampler\n",
    "sampler = Sampler()\n",
    "\n",
    "job = sampler.run([qc])\n",
    "result = job.result()\n",
    "print(f\" > Counts: {result[0].data.meas.get_counts()}\")"
   ]
  },
  {
   "cell_type": "markdown",
   "metadata": {},
   "source": [
    "Quantum Error Correction - QEC"
   ]
  },
  {
   "cell_type": "code",
   "execution_count": null,
   "metadata": {},
   "outputs": [],
   "source": []
  }
 ],
 "metadata": {
  "kernelspec": {
   "display_name": "lab",
   "language": "python",
   "name": "python3"
  },
  "language_info": {
   "codemirror_mode": {
    "name": "ipython",
    "version": 3
   },
   "file_extension": ".py",
   "mimetype": "text/x-python",
   "name": "python",
   "nbconvert_exporter": "python",
   "pygments_lexer": "ipython3",
   "version": "3.13.0"
  }
 },
 "nbformat": 4,
 "nbformat_minor": 2
}
