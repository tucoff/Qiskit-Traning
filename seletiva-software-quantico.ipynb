{
 "cells": [
  {
   "cell_type": "markdown",
   "metadata": {},
   "source": [
    "Quantum State Preparation - QSP"
   ]
  },
  {
   "cell_type": "code",
   "execution_count": 25,
   "metadata": {},
   "outputs": [],
   "source": [
    "from qiskit import QuantumCircuit\n",
    "from qiskit.primitives import StatevectorSampler as Sampler\n",
    "from qiskit.quantum_info import Statevector\n",
    "from qiskit.circuit.library import UnitaryGate\n",
    "from scipy.linalg import svd\n",
    "from math import sqrt\n",
    "import numpy as np"
   ]
  },
  {
   "cell_type": "code",
   "execution_count": 39,
   "metadata": {},
   "outputs": [],
   "source": [
    "# Função para preparar o estado de modo recursivo\n",
    "def prepare_state(circuit, state, qubits):\n",
    "\n",
    "    n = len(qubits)  # Número de qubits\n",
    "\n",
    "    # Caso base: Se tivermos apenas dois qubits, usamos initialize.\n",
    "    if n == 1:\n",
    "        circuit.initialize(state, qubits)\n",
    "        return\n",
    "\n",
    "    # Divisão do espaço de Hilbert\n",
    "    if n % 2 == 0:  # Número par de qubits\n",
    "        k = n // 2\n",
    "    else:  # Número ímpar de qubits\n",
    "        k = n // 2  # Particiona em k e k+1 qubits\n",
    "\n",
    "    dim1 = 2 ** k\n",
    "    dim2 = 2 ** (n - k)\n",
    "    state = state.reshape((dim1, dim2))  # Reshape para matriz retangular\n",
    "\n",
    "    # Decomposição SVD para obter coeficientes de Schmidt e unitários\n",
    "    U, singular_values, V_dag = svd(state)\n",
    "    singular_values = singular_values / np.linalg.norm(singular_values)  # Normalizar\n",
    "\n",
    "    # Prepara o estado no primeiro subespaço\n",
    "    prepare_state(circuit, singular_values, qubits[:k])\n",
    "\n",
    "    # Fase 2: Aplicar CNOT entre os dois subespaços\n",
    "    for i in range(k):\n",
    "        circuit.cx(qubits[i], qubits[i + k])\n",
    "\n",
    "    # Fase 3: Aplicar o unitário no primeiro subespaço\n",
    "    U_gate = UnitaryGate(U, label=\"U\")\n",
    "    circuit.append(U_gate, qubits[:k])\n",
    "\n",
    "    # Fase 4: Aplicar o unitário no segundo subespaço\n",
    "    V_gate = UnitaryGate(V_dag.T.conj(), label=\"V†\")\n",
    "    circuit.append(V_gate, qubits[k:])"
   ]
  },
  {
   "cell_type": "code",
   "execution_count": 40,
   "metadata": {},
   "outputs": [],
   "source": [
    "# Função para preparar um estado quântico arbitrário\n",
    "def prepare_arbitrary_state(n, state):\n",
    "\n",
    "    if len(state) != 2**n:\n",
    "        raise ValueError(\"O vetor do estado deve ter dimensão 2^n.\")\n",
    "\n",
    "    # Inicializar o circuito\n",
    "    qc = QuantumCircuit(n)\n",
    "\n",
    "    # Preparar o estado\n",
    "    prepare_state(qc, state, list(range(n)))\n",
    "\n",
    "    return qc"
   ]
  },
  {
   "cell_type": "code",
   "execution_count": 44,
   "metadata": {},
   "outputs": [
    {
     "data": {
      "image/png": "[encoded data removed]",
      "text/plain": [
       "<Figure size 705.552x367.889 with 1 Axes>"
      ]
     },
     "execution_count": 44,
     "metadata": {},
     "output_type": "execute_result"
    }
   ],
   "source": [
    "n_qubits = 4  # Teste com número ímpar\n",
    "target_state = np.random.rand(2**n_qubits) + 1j * np.random.rand(2**n_qubits)  # Estado aleatório\n",
    "target_state = target_state / np.linalg.norm(target_state)  # Normalizar\n",
    "\n",
    "# Gerar o circuito\n",
    "circuit = prepare_arbitrary_state(n_qubits, target_state)\n",
    "\n",
    "# Exibir o circuito\n",
    "circuit.draw('mpl')"
   ]
  },
  {
   "cell_type": "code",
   "execution_count": 45,
   "metadata": {},
   "outputs": [
    {
     "name": "stdout",
     "output_type": "stream",
     "text": [
      " > Counts: {'0011': 103, '0100': 141, '0110': 43, '1000': 84, '0111': 78, '1011': 10, '1010': 123, '1101': 78, '1110': 87, '1111': 75, '1001': 51, '0001': 41, '0010': 46, '1100': 19, '0101': 31, '0000': 14}\n"
     ]
    }
   ],
   "source": [
    "# Simular o circuito\n",
    "circuit.measure_all()\n",
    "\n",
    "sampler = Sampler()\n",
    "\n",
    "job = sampler.run([circuit])\n",
    "result = job.result()\n",
    "print(f\" > Counts: {result[0].data.meas.get_counts()}\")"
   ]
  },
  {
   "cell_type": "markdown",
   "metadata": {},
   "source": [
    "Quantum Error Correction - QEC"
   ]
  },
  {
   "cell_type": "code",
   "execution_count": null,
   "metadata": {},
   "outputs": [],
   "source": []
  }
 ],
 "metadata": {
  "kernelspec": {
   "display_name": "lab",
   "language": "python",
   "name": "python3"
  },
  "language_info": {
   "codemirror_mode": {
    "name": "ipython",
    "version": 3
   },
   "file_extension": ".py",
   "mimetype": "text/x-python",
   "name": "python",
   "nbconvert_exporter": "python",
   "pygments_lexer": "ipython3",
   "version": "3.13.0"
  }
 },
 "nbformat": 4,
 "nbformat_minor": 2
}
