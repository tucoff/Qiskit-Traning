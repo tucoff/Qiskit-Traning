{
 "cells": [
  {
   "cell_type": "markdown",
   "metadata": {},
   "source": [
    "# Biblioteca"
   ]
  },
  {
   "cell_type": "code",
   "execution_count": 1,
   "metadata": {},
   "outputs": [],
   "source": [
    "# qiskit - para computação quântica\n",
    "from qiskit import QuantumCircuit, ClassicalRegister, QuantumRegister, transpile # registradores e circuitos quânticos\n",
    "from qiskit.primitives import StatevectorSampler as Sampler # amostragem de vetores de estado\n",
    "from qiskit.circuit.library import UnitaryGate # portas unitárias\n",
    "from qiskit_aer import AerSimulator # type: ignore\n",
    "\n",
    "# scipy - para manipulação de matrizes\n",
    "from scipy.linalg import svd # decomposição em valores singulares\n",
    "\n",
    "# numpy - para manipulação de arrays\n",
    "import numpy as np \n",
    "\n",
    "# random - para geração de números aleatórios\n",
    "import random "
   ]
  },
  {
   "cell_type": "markdown",
   "metadata": {},
   "source": [
    "# Quantum State Preparation - QSP"
   ]
  },
  {
   "cell_type": "markdown",
   "metadata": {},
   "source": [
    "Funções para Preparação dos Estados"
   ]
  },
  {
   "cell_type": "code",
   "execution_count": 2,
   "metadata": {},
   "outputs": [],
   "source": [
    "# função para preparar um estado quântico, recebe o circuito, o estado e uma lista com os qubits do circuito\n",
    "# c - circuito quântico\n",
    "# s - estado quântico\n",
    "# q - lista com os qubits do circuito\n",
    "# n - número de qubits\n",
    "# k - metade do número de qubits\n",
    "# U, Vt - matrizes da decomposição em valores singulares\n",
    "def prepare_state(c, s, q):\n",
    "\n",
    "    # fase 1 - preparação dos qubits\n",
    "    n = len(q) # número de qubits\n",
    "\n",
    "    # se n for 1, inicializa o qubit com o estado\n",
    "    if n == 1:\n",
    "        c.initialize(s, q)\n",
    "        return # se n for maior que 1, continua...\n",
    "\n",
    "    # divide o estado em duas partes\n",
    "    k = n // 2 \n",
    "\n",
    "    # reshape do estado para permitir o uso da função svd\n",
    "    dim1 = 2 ** k\n",
    "    dim2 = 2 ** (n - k)\n",
    "    s = s.reshape((dim1, dim2))\n",
    "\n",
    "    # decomposição em valores singulares\n",
    "    U, singular_values, Vt = svd(s)\n",
    "    singular_values = singular_values / np.linalg.norm(singular_values)\n",
    "\n",
    "    # chamada recursiva para preparar metade dos qubits\n",
    "    prepare_state(c, singular_values, q[:k])\n",
    "\n",
    "    # fase 2 - combinação dos qubits\n",
    "    for i in range(k):\n",
    "        c.cx(q[i], q[i + k])\n",
    "\n",
    "    # fase 3 - gate unitária para a matriz U\n",
    "    U_gate = UnitaryGate(U, label=\"U\")\n",
    "    c.append(U_gate, q[:k])\n",
    "\n",
    "    # fase 4 - gate unitária para a matriz Vt\n",
    "    Vt_gate = UnitaryGate(Vt.T.conj(), label=\"Vt\")\n",
    "    c.append(Vt_gate, q[k:])"
   ]
  },
  {
   "cell_type": "code",
   "execution_count": 3,
   "metadata": {},
   "outputs": [],
   "source": [
    "# função para preparar um estado quântico arbitrário\n",
    "# n - número de qubits\n",
    "# s - vetor de amplitudes do estado\n",
    "# c - circuito quântico\n",
    "def prepare_arbitrary_state(n, s):\n",
    "    c = QuantumCircuit(n) # cria um circuito quântico com n qubits\n",
    "\n",
    "    # chama a função prepare_state para preparar o estado\n",
    "    prepare_state(c, s, list(range(n)))\n",
    "\n",
    "    return c # retorna o circuito"
   ]
  },
  {
   "cell_type": "markdown",
   "metadata": {},
   "source": [
    "Gerador de Amplitude Aleatória"
   ]
  },
  {
   "cell_type": "code",
   "execution_count": 4,
   "metadata": {},
   "outputs": [],
   "source": [
    "# função para gerar um vetor de estado aleatório\n",
    "# n - número de qubits\n",
    "# s - vetor de amplitudes do estado\n",
    "def gen_random_state(n):\n",
    "    # gera um vetor de estado aleatório\n",
    "    s = np.random.rand(2**n) + 1j * np.random.rand(2**n)  \n",
    "    s = s / np.linalg.norm(s) \n",
    "\n",
    "    return s # retorna o vetor de estado"
   ]
  },
  {
   "cell_type": "markdown",
   "metadata": {},
   "source": [
    "# Quantum Error Correction - QEC"
   ]
  },
  {
   "cell_type": "markdown",
   "metadata": {},
   "source": [
    "Medição de Estados"
   ]
  },
  {
   "cell_type": "code",
   "execution_count": 5,
   "metadata": {},
   "outputs": [],
   "source": [
    "# ignora a medição para gerar circuitos maiores\n",
    "ignore_measuring = False\n",
    "\n",
    "# função para medir o estado atual\n",
    "# c - circuito quântico\n",
    "# n - número de qubits\n",
    "# m - cópia do circuito original feito para medição\n",
    "# sp - statevector sampler\n",
    "# r - resultado da medição\n",
    "# e - execução do circuito\n",
    "def measure_current_state(c, n):\n",
    "    if ignore_measuring:\n",
    "        return\n",
    "    \n",
    "    # cria um circuito de measure que copia o circuito original para testar sem alterar o original\n",
    "    m = c.copy()\n",
    "\n",
    "    # registrador classico    \n",
    "    reg = ClassicalRegister(n, \"registrador\")\n",
    "    m.add_register(reg) # adiciona o registrador ao circuito\n",
    "    \n",
    "    # mede n qubits \n",
    "    for i in range(n):\n",
    "        m.measure(i, reg[i])\n",
    "\n",
    "    # executa o circuito\n",
    "    b = AerSimulator()\n",
    "    t = transpile(m, b)\n",
    "    t.save_statevector()\n",
    "    r = b.run(t).result()\n",
    "    ct = r.get_counts()\n",
    "    sv = r.get_statevector() # coleta o resultado da medição\n",
    "    \n",
    "    print(ct) # imprime o resultado da medição\n",
    "    #print(sv) # imprime o vetor de estado\n",
    "    print(\"\")"
   ]
  },
  {
   "cell_type": "markdown",
   "metadata": {},
   "source": [
    "Função de Codificação de Shor"
   ]
  },
  {
   "cell_type": "code",
   "execution_count": 6,
   "metadata": {},
   "outputs": [],
   "source": [
    "# função para codificar um qubit em um estado de 9 qubits como descrito no artigo\n",
    "# c - circuito quântico\n",
    "# n - número de qubits\n",
    "# extra_q - registrador extra\n",
    "def encode_qubit(c, n):\n",
    "\n",
    "    # cria um registrador extra\n",
    "    extra_q = QuantumRegister(8*n, name=\"extra_q\")  \n",
    "    c.add_register(extra_q) # adiciona o registrador ao circuito\n",
    "     \n",
    "    # codifica n qubits em estados de 9 qubits cada\n",
    "    for i in range(n):\n",
    "\n",
    "        c.cx(i,8*i + 3 + (n-1))\n",
    "        c.cx(i,8*i + 6 + (n-1))\n",
    "\n",
    "        c.h(i)\n",
    "        c.h(8*i + 3 + (n-1))\n",
    "        c.h(8*i + 6 + (n-1))\n",
    "\n",
    "        c.cx(i,8*i + 1 + (n-1))\n",
    "        c.cx(8*i + 3 + (n-1),8*i + 4 + (n-1))\n",
    "        c.cx(8*i + 6 + (n-1),8*i + 7 + (n-1))\n",
    "\n",
    "        c.cx(i,8*i + 2 + (n-1))\n",
    "        c.cx(8*i + 3 + (n-1),8*i + 5 + (n-1))\n",
    "        c.cx(8*i + 6 + (n-1),8*i + 8 + (n-1))\n",
    "        \n",
    "        c.barrier()\n",
    "\n",
    "    return c # retorna o circuito após aplicar vários CNOTS e HADAMARDS"
   ]
  },
  {
   "cell_type": "markdown",
   "metadata": {},
   "source": [
    "Função de Aplicar Erro Aleatório"
   ]
  },
  {
   "cell_type": "code",
   "execution_count": 7,
   "metadata": {},
   "outputs": [],
   "source": [
    "# função para aplicar um erro aleatório em um dos qubits\n",
    "# c - circuito quântico\n",
    "# n - número de qubits\n",
    "# error_q - qubit que receberá o erro\n",
    "# error - tipo de erro (x ou z)\n",
    "def apply_random_error(c, n):\n",
    "    error_q = random.randint(0, (n*9)-1) # escolhe um qubit aleatório para receber o erro\n",
    "    error = random.choice(['x', 'z']) # escolhe um erro aleatório (x ou z)\n",
    "    \n",
    "    # aplica o erro no qubit escolhido\n",
    "    if error == 'x':\n",
    "        c.x(error_q) # aplica a porta X no circuito\n",
    "    else:\n",
    "        c.z(error_q) # aplica a porta Z no circuito\n",
    "\n",
    "    # coloca uma barreira no circuito\n",
    "    c.barrier()\n",
    "\n",
    "    # retorna o circuito com o erro aplicado\n",
    "    return c"
   ]
  },
  {
   "cell_type": "markdown",
   "metadata": {},
   "source": [
    "Extração de Síndrome"
   ]
  },
  {
   "cell_type": "code",
   "execution_count": 8,
   "metadata": {},
   "outputs": [],
   "source": [
    "# função para extrair o síndrome de um estado de 9 qubits\n",
    "# c - circuito quântico\n",
    "# sp - statevector sampler\n",
    "# syn_q - síndrome\n",
    "# syn_c - registrador clássico para o síndrome\n",
    "# l_syn - lista de síndromes \n",
    "def extract_syndrome(c, n):\n",
    "    sp = Sampler() \n",
    "\n",
    "    l_syn = [] # lista de síndromes\n",
    "\n",
    "    # cria os registradores para o síndrome\n",
    "    syn_q = QuantumRegister(2*n, name=\"syn_q\") \n",
    "    syn_c  = ClassicalRegister(2*n, name=\"syn\")\n",
    "\n",
    "    # adiciona os registradores ao circuito\n",
    "    c.add_register(syn_q)\n",
    "    c.add_register(syn_c)\n",
    "\n",
    "    for i in range(n):\n",
    "        # aplica as portas HADAMARD para superposição\n",
    "        c.h(9*n + 2*i)\n",
    "        c.h(9*n + 2*i + 1)\n",
    "\n",
    "        # aplica as portas CNOT para gerar a síndrome##########\n",
    "        c.cx(9*n + 2*i, i)\n",
    "        for j in range(5):\n",
    "            c.cx(9*n + 2*i, (n-1) + i*8 + j + 1)\n",
    "        c.barrier()\n",
    "        \n",
    "        c.cx(9*n + 2*i + 1, (n-1) + i*8 + 3)\n",
    "        for j in range(5):\n",
    "            c.cx(9*n + 2*i + 1, (n-1) + i*8 + 4 + j)\n",
    "        c.barrier()\n",
    "        #######################################################\n",
    "        \n",
    "        # aplica as portas HADAMARD para remover superposição\n",
    "        c.h(9*n + 2*i)\n",
    "        c.h(9*n + 2*i + 1)\n",
    "\n",
    "        c.barrier()\n",
    "\n",
    "        # cópia para medir, pois não é possível medir no meio do circuito com qiskit\n",
    "        copy = c.copy()\n",
    "        copy.measure(9*n + 2*i, 2*i)\n",
    "        copy.measure(9*n + 2*i + 1, 2*i + 1)\n",
    "\n",
    "        e = sp.run([copy])\n",
    "        r = e.result()\n",
    "        syn = r[0].data.syn.get_counts()\n",
    "        l_syn.append(syn)\n",
    "\n",
    "    # retorna o circuito e as listas de síndromes\n",
    "    return l_syn"
   ]
  },
  {
   "cell_type": "markdown",
   "metadata": {},
   "source": [
    "Corrigir Erros"
   ]
  },
  {
   "cell_type": "code",
   "execution_count": 9,
   "metadata": {},
   "outputs": [],
   "source": [
    "# função para corrigir um erro em um estado de 9 qubits\n",
    "# c - circuito quântico\n",
    "# n - número de qubits\n",
    "# syn - síndrome\n",
    "# ZERO - estado de Y bits com todos os qubits em 0\n",
    "# Z - estado de 2 bits com posição do erro no bloco\n",
    "# bits_duplos - lista de bits duplos\n",
    "# z - bit duplo \n",
    "# b - bloco\n",
    "def correct_error(c, n, syn):\n",
    "\n",
    "    # manipulação de string #######################\n",
    "    lista = syn\n",
    "    n = len(lista)\n",
    "    ZERO = '0' * (n * 2)\n",
    "    Z = None\n",
    "\n",
    "    for dicionario in lista:\n",
    "        chave = list(dicionario.keys())[0]  \n",
    "        if chave != ZERO:\n",
    "            Z = chave\n",
    "            break\n",
    "\n",
    "    if Z == None:\n",
    "        return\n",
    "    ##############################################\n",
    "\n",
    "    bits_duplos = []\n",
    "\n",
    "    # separa os bits duplos\n",
    "    for i in range(0, len(Z), 2):\n",
    "        bit_duplo = Z[i:i+2]  \n",
    "        posicao = i // 2      \n",
    "        if bit_duplo != '00':\n",
    "            bits_duplos.append((bit_duplo, posicao)) \n",
    "\n",
    "    z = bits_duplos[0][0]\n",
    "    b = bits_duplos[0][1]\n",
    "\n",
    "    # corrige bloco dependendo do numero de qubits\n",
    "    b = (b - (n-1))*-1\n",
    "\n",
    "    # aplica a correção de erro no circuito\n",
    "    if z == '01':\n",
    "        c.z(b)\n",
    "    elif z == '11':\n",
    "        c.z((n+2) + b*9)\n",
    "    elif z == '10':\n",
    "        c.z((n+5) + b*9)\n",
    "    \n",
    "    c.barrier()\n"
   ]
  },
  {
   "cell_type": "markdown",
   "metadata": {},
   "source": [
    "Função de Decodificação de Shor"
   ]
  },
  {
   "cell_type": "code",
   "execution_count": 10,
   "metadata": {},
   "outputs": [],
   "source": [
    "# função para decodificar um qubit de 9 qubits\n",
    "# c - circuito quântico\n",
    "# n - número de qubits\n",
    "def decode_qubit(c, n):\n",
    "\n",
    "    for i in range(n): \n",
    "        c.cx(i, i*8 + n) \n",
    "        \n",
    "        c.cx(i*8 + n + 2, i*8 + n + 3) \n",
    "        c.cx(i*8 + n + 5, i*8 + n + 6) \n",
    "\n",
    "        c.cx(i, i*8 + n + 1)\n",
    "\n",
    "        c.cx(i*8 + n + 2, i*8 + n + 4) \n",
    "        c.cx(i*8 + n + 5, i*8 + n + 7) \n",
    "\n",
    "        c.ccx(i*8 + n, i*8 + n + 1, i) \n",
    "        c.ccx(i*8 + n + 4, i*8 + n + 3, i*8 + n + 2) \n",
    "        c.ccx(i*8 + n + 7, i*8 + n + 6, i*8 + n + 5) \n",
    "\n",
    "        c.h(i) \n",
    "        c.h(i*8 + n + 2)\n",
    "        c.h(i*8 + n + 5)\n",
    "\n",
    "        c.cx(i, i*8 + n + 2) \n",
    "        c.cx(i, i*8 + n + 5) \n",
    "        c.ccx(i*8 + n + 5, i*8 + n + 2, i) \n",
    "\n",
    "        c.barrier()\n",
    "    \n",
    "    return c"
   ]
  },
  {
   "cell_type": "markdown",
   "metadata": {},
   "source": [
    "# Controlador do Corretor de Erros Quântico"
   ]
  },
  {
   "cell_type": "code",
   "execution_count": 11,
   "metadata": {},
   "outputs": [],
   "source": [
    "# função de controle\n",
    "# c - circuito quântico\n",
    "# n - número de qubits\n",
    "def qec(c, n):\n",
    "\n",
    "    print(\"Estados iniciais:\")\n",
    "    measure_current_state(c, n)\n",
    "        \n",
    "    ###########################################\n",
    "    #''' código de Shor\n",
    "    encode_qubit(c, n)\n",
    "\n",
    "    print(\"Estados pós codificação de Shor:\")\n",
    "    measure_current_state(c, n*9)\n",
    "\n",
    "    #'''\n",
    "\n",
    "    ###########################################\n",
    "    #''' aplicar erro\n",
    "    apply_random_error(c, n)\n",
    "\n",
    "    print(\"Estados pós aplicação de erro:\")\n",
    "    measure_current_state(c, n*9)\n",
    "\n",
    "    #'''\n",
    "\n",
    "    ###########################################\n",
    "    #''' extração da síndrome\n",
    "    syn = extract_syndrome(c, n)\n",
    "\n",
    "    print(\"Síndrome:\")\n",
    "    print(syn)\n",
    "    print(\"\")\n",
    "\n",
    "    #'''\n",
    "\n",
    "    ###########################################\n",
    "    #''' correção do erro Z\n",
    "    correct_error(c, n, syn)\n",
    "\n",
    "    print(\"Estados pós correção de erro Z:\")\n",
    "    measure_current_state(c, n*9)\n",
    "\n",
    "    #'''\n",
    "\n",
    "    ###########################################\n",
    "    #''' decodificação (correção de erro X)\n",
    "    decode_qubit(c, n)\n",
    "    \n",
    "    print(\"Estados pós decode:\")\n",
    "    measure_current_state(c, n)\n",
    "\n",
    "    #'''\n",
    "\n",
    "    ###########################################    \n",
    "\n",
    "    return c"
   ]
  },
  {
   "cell_type": "markdown",
   "metadata": {},
   "source": [
    "# Aplicações"
   ]
  },
  {
   "cell_type": "markdown",
   "metadata": {},
   "source": [
    "Aplicação QSP"
   ]
  },
  {
   "cell_type": "code",
   "execution_count": 12,
   "metadata": {},
   "outputs": [
    {
     "name": "stdout",
     "output_type": "stream",
     "text": [
      "{'0011': 98, '1100': 91, '1011': 91, '0010': 67, '1110': 50, '0101': 124, '1010': 37, '1000': 54, '0100': 42, '0000': 112, '0110': 44, '1001': 48, '0001': 84, '1111': 52, '0111': 23, '1101': 7}\n",
      "\n"
     ]
    },
    {
     "data": {
      "image/png": "[encoded data removed]",
      "text/plain": [
       "<Figure size 705.552x367.889 with 1 Axes>"
      ]
     },
     "execution_count": 12,
     "metadata": {},
     "output_type": "execute_result"
    }
   ],
   "source": [
    "n = int(input('Insira o número de qubits que quer preparar: ')) # número de qubits\n",
    "\n",
    "# prepara o circuito quântico com o estado e o número de qubits especificados\n",
    "c = prepare_arbitrary_state(n, gen_random_state(n))\n",
    "\n",
    "# mede o estado atual\n",
    "measure_current_state(c, n)\n",
    "\n",
    "# desenha o circuito\n",
    "c.draw('mpl')"
   ]
  },
  {
   "cell_type": "markdown",
   "metadata": {},
   "source": [
    "Aplicação QEC"
   ]
  },
  {
   "cell_type": "code",
   "execution_count": null,
   "metadata": {},
   "outputs": [
    {
     "name": "stdout",
     "output_type": "stream",
     "text": [
      "Estados iniciais:\n",
      "{'00': 544, '01': 347, '10': 132, '11': 1}\n",
      "\n",
      "Estados pós codificação de Shor:\n",
      "{'000111111111111111': 6, '111000111111111111': 5, '111111000000000000': 40, '000000001111110000': 42, '000111110001111111': 43, '111000000000000000': 13, '111000111110001111': 47, '111000110001111111': 51, '000000000001111101': 52, '111000000001111101': 10, '000111110000001111': 4, '111111001110001101': 49, '111111001110000000': 4, '000111110000000010': 42, '000111001111111101': 1, '000000111111110010': 15, '000000111110001111': 17, '000111001110000000': 1, '000111111110000010': 3, '000000001110001101': 39, '111111110000000010': 17, '111000111110000010': 4, '111000110001110010': 4, '111111000001111101': 42, '111000001111110000': 11, '000000000000001101': 6, '111111001111110000': 41, '111111001111111101': 3, '000000000000000000': 55, '111111000000001101': 5, '111000111111110010': 45, '000000001111111101': 6, '000111111111110010': 53, '000111001111110000': 11, '000000001110000000': 2, '000111111110001111': 35, '111000110000000010': 38, '000111110001110010': 1, '111000000000001101': 3, '111111111111110010': 4, '000000111110000010': 1, '000111001110001101': 20, '000111000001111101': 15, '000000110001111111': 13, '111111111110001111': 18, '111111110001111111': 13, '111000110000001111': 5, '000000110000000010': 15, '111111000001110000': 8, '111000001110001101': 18, '000000110001110010': 1, '000111000001110000': 2, '000111000000000000': 17, '000000110000001111': 1, '111111110000001111': 1, '000000000001110000': 3, '000111000000001101': 1, '111000000001110000': 2}\n",
      "\n",
      "Estados pós aplicação de erro:\n",
      "{'111111110000101111': 1, '111111001111010000': 44, '111000110001011111': 40, '111111111111011111': 1, '111000000000100000': 15, '000111110001011111': 54, '111000001110101101': 14, '000111000001011101': 15, '000000000000101101': 3, '000111001111010000': 16, '000000001110101101': 35, '000000000000100000': 44, '000111001111011101': 2, '111000111111010010': 45, '000000001111010000': 35, '111111000000100000': 51, '000111111110101111': 47, '000111000001010000': 2, '000111110000100010': 41, '111111000001010000': 3, '111111111110101111': 13, '000000111110101111': 13, '000111111111010010': 42, '111000110000101111': 5, '111000000001011101': 11, '000000000001010000': 5, '111111001110101101': 57, '111111110001011111': 14, '000111001110101101': 11, '111000111110101111': 51, '111111000001011101': 68, '111111001110100000': 3, '000000000001011101': 39, '111000000001010000': 1, '111000110000100010': 45, '111000001111010000': 14, '111000111110100010': 6, '000000001110100000': 10, '111111001111011101': 1, '111111110000100010': 14, '000111000000100000': 8, '000000110000100010': 21, '000000110001011111': 20, '000111110001010010': 1, '111111111111010010': 14, '000111111111011111': 6, '000111111110100010': 6, '111000110001010010': 2, '000000111111011111': 1, '000000111111010010': 5, '111000111111011111': 3, '000000001111011101': 2, '111111000000101101': 2, '111111110001010010': 1, '000111000000101101': 1}\n",
      "\n"
     ]
    }
   ],
   "source": [
    "# variável para ignorar a medição ou não (True para ignorar)\n",
    "ignore_measuring = False\n",
    "# variável para verificar se o circuito inicia em 0\n",
    "c_zero = False \n",
    "\n",
    "# dificuldade para gerar com qualquer quantidade maior que 1 qubit\n",
    "n = 2 # int(input('Insira o número de qubits que quer preparar: '))  # selecionar o número de qubits\n",
    "\n",
    "# prepara o estado aleatório com n qubits\n",
    "if c_zero:\n",
    "    c = prepare_arbitrary_state(n, np.array([1, 0]))\n",
    "else:\n",
    "    c = prepare_arbitrary_state(n, gen_random_state(n))\n",
    "\n",
    "qec(c, n) # executa o código de correção de erro\n",
    "\n",
    "# desenhar circuito\n",
    "c.draw('mpl')"
   ]
  },
  {
   "cell_type": "markdown",
   "metadata": {},
   "source": [
    "Aplicação da Porta X"
   ]
  },
  {
   "cell_type": "code",
   "execution_count": 17,
   "metadata": {},
   "outputs": [
    {
     "name": "stdout",
     "output_type": "stream",
     "text": [
      "{'0': 1015, '1': 9}\n",
      "\n",
      "{'0': 1009, '1': 15}\n",
      "\n"
     ]
    },
    {
     "data": {
      "image/png": "[encoded data removed]",
      "text/plain": [
       "<Figure size 2133.88x785.944 with 1 Axes>"
      ]
     },
     "execution_count": 17,
     "metadata": {},
     "output_type": "execute_result"
    }
   ],
   "source": [
    "# porta x de modo transversal\n",
    "\n",
    "a = 1\n",
    "b = prepare_arbitrary_state(a, gen_random_state(n))\n",
    "measure_current_state(b, a)\n",
    "b.x(0)\n",
    "encode_qubit(b, a)\n",
    "\n",
    "apply_random_error(b, a)\n",
    "\n",
    "for i in range(9):\n",
    "    b.x(i)\n",
    "b.barrier()\n",
    "\n",
    "decode_qubit(b, a)\n",
    "b.x(0)\n",
    "measure_current_state(b, a)\n",
    "b.draw('mpl')"
   ]
  }
 ],
 "metadata": {
  "kernelspec": {
   "display_name": "lab",
   "language": "python",
   "name": "python3"
  },
  "language_info": {
   "codemirror_mode": {
    "name": "ipython",
    "version": 3
   },
   "file_extension": ".py",
   "mimetype": "text/x-python",
   "name": "python",
   "nbconvert_exporter": "python",
   "pygments_lexer": "ipython3",
   "version": "3.13.0"
  }
 },
 "nbformat": 4,
 "nbformat_minor": 2
}
