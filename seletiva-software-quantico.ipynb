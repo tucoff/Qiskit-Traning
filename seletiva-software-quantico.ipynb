{
 "cells": [
  {
   "cell_type": "markdown",
   "metadata": {},
   "source": [
    "Quantum State Preparation - QSP"
   ]
  },
  {
   "cell_type": "code",
   "execution_count": 1,
   "metadata": {},
   "outputs": [],
   "source": [
    "from qiskit import QuantumCircuit\n",
    "from qiskit.primitives import StatevectorSampler as Sampler\n",
    "from qiskit.quantum_info import Statevector\n",
    "from math import sqrt"
   ]
  },
  {
   "cell_type": "code",
   "execution_count": 42,
   "metadata": {},
   "outputs": [
    {
     "data": {
      "text/html": [
       "<pre style=\"word-wrap: normal;white-space: pre;background: #fff0;line-height: 1.1;font-family: &quot;Courier New&quot;,Courier,monospace\">     ┌──────────────────────────────────────────────┐          \n",
       "q_0: ┤0                                             ├──■───────\n",
       "     │                                              │  │       \n",
       "q_1: ┤1                                             ├──┼────■──\n",
       "     │  Initialize(1,0,0,0,0,0,0,0,0,0,0,0,0,0,0,0) │┌─┴─┐  │  \n",
       "q_2: ┤2                                             ├┤ X ├──┼──\n",
       "     │                                              │└───┘┌─┴─┐\n",
       "q_3: ┤3                                             ├─────┤ X ├\n",
       "     └──────────────────────────────────────────────┘     └───┘</pre>"
      ],
      "text/plain": [
       "     ┌──────────────────────────────────────────────┐          \n",
       "q_0: ┤0                                             ├──■───────\n",
       "     │                                              │  │       \n",
       "q_1: ┤1                                             ├──┼────■──\n",
       "     │  Initialize(1,0,0,0,0,0,0,0,0,0,0,0,0,0,0,0) │┌─┴─┐  │  \n",
       "q_2: ┤2                                             ├┤ X ├──┼──\n",
       "     │                                              │└───┘┌─┴─┐\n",
       "q_3: ┤3                                             ├─────┤ X ├\n",
       "     └──────────────────────────────────────────────┘     └───┘"
      ]
     },
     "execution_count": 42,
     "metadata": {},
     "output_type": "execute_result"
    }
   ],
   "source": [
    "def preparacao_de_estados(n):\n",
    "    \n",
    "    if n % 2 != 0:\n",
    "        raise ValueError(\"O número de qubits deve ser par.\")\n",
    "    \n",
    "    qc = QuantumCircuit(n)\n",
    "    k = n//2\n",
    "\n",
    "    #-------------------#\n",
    "    \n",
    "    # Phase 1\n",
    "          \n",
    "    # Inicializar o estado\n",
    "    alpha = [1] + ([0] * ((n*2)-1))\n",
    "    statevector = alpha + ([0] * (n*2))\n",
    "    \n",
    "    qc.initialize(statevector, qc.qubits)\n",
    "\n",
    "    #-------------------#\n",
    "\n",
    "    # Phase 2\n",
    "\n",
    "    for i in range(k):\n",
    "        qc.cx(i, i+k)\n",
    "    \n",
    "    #-------------------#\n",
    "\n",
    "    # Phase 3 & 4\n",
    "\n",
    "    # ...\n",
    "\n",
    "    #-------------------#\n",
    "\n",
    "    return qc\n",
    "\n",
    "# Exemplo de uso\n",
    "n = 4\n",
    "qc = preparacao_de_estados(n)\n",
    "qc.draw()"
   ]
  },
  {
   "cell_type": "code",
   "execution_count": 57,
   "metadata": {},
   "outputs": [
    {
     "name": "stdout",
     "output_type": "stream",
     "text": [
      " > Counts: {'0000': 1024}\n"
     ]
    }
   ],
   "source": [
    "qc.measure_all()\n",
    "\n",
    "# initialization of the sampler\n",
    "sampler = Sampler()\n",
    "\n",
    "job = sampler.run([qc])\n",
    "result = job.result()\n",
    "print(f\" > Counts: {result[0].data.meas.get_counts()}\")"
   ]
  },
  {
   "cell_type": "code",
   "execution_count": 41,
   "metadata": {},
   "outputs": [
    {
     "data": {
      "text/plain": [
       "{np.str_('00'): np.float64(0.4999999999999999),\n",
       " np.str_('01'): np.float64(0.4999999999999999)}"
      ]
     },
     "execution_count": 41,
     "metadata": {},
     "output_type": "execute_result"
    }
   ],
   "source": [
    "sv = Statevector.from_label(\"0+\")\n",
    "sv.probabilities_dict()"
   ]
  },
  {
   "cell_type": "markdown",
   "metadata": {},
   "source": [
    "Quantum Error Correction - QEC"
   ]
  },
  {
   "cell_type": "code",
   "execution_count": null,
   "metadata": {},
   "outputs": [],
   "source": []
  }
 ],
 "metadata": {
  "kernelspec": {
   "display_name": "lab",
   "language": "python",
   "name": "python3"
  },
  "language_info": {
   "codemirror_mode": {
    "name": "ipython",
    "version": 3
   },
   "file_extension": ".py",
   "mimetype": "text/x-python",
   "name": "python",
   "nbconvert_exporter": "python",
   "pygments_lexer": "ipython3",
   "version": "3.13.0"
  }
 },
 "nbformat": 4,
 "nbformat_minor": 2
}
