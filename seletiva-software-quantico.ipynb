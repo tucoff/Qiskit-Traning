{
 "cells": [
  {
   "cell_type": "markdown",
   "metadata": {},
   "source": [
    "Quantum State Preparation - QSP"
   ]
  },
  {
   "cell_type": "code",
   "execution_count": 54,
   "metadata": {},
   "outputs": [],
   "source": [
    "from qiskit import QuantumCircuit\n",
    "from qiskit.primitives import StatevectorSampler as Sampler\n",
    "from qiskit.quantum_info import Statevector"
   ]
  },
  {
   "cell_type": "code",
   "execution_count": 86,
   "metadata": {},
   "outputs": [
    {
     "data": {
      "text/html": [
       "<pre style=\"word-wrap: normal;white-space: pre;background: #fff0;line-height: 1.1;font-family: &quot;Courier New&quot;,Courier,monospace\">          ┌───┐     ┌───┐\n",
       "q_0: ──■──┤ X ├──■──┤ X ├\n",
       "     ┌─┴─┐└─┬─┘┌─┴─┐└─┬─┘\n",
       "q_1: ┤ X ├──■──┤ X ├──■──\n",
       "     └───┘     └───┘     </pre>"
      ],
      "text/plain": [
       "          ┌───┐     ┌───┐\n",
       "q_0: ──■──┤ X ├──■──┤ X ├\n",
       "     ┌─┴─┐└─┬─┘┌─┴─┐└─┬─┘\n",
       "q_1: ┤ X ├──■──┤ X ├──■──\n",
       "     └───┘     └───┘     "
      ]
     },
     "execution_count": 86,
     "metadata": {},
     "output_type": "execute_result"
    }
   ],
   "source": [
    "def preparacao_de_estados(n):\n",
    "    if n % 2 != 0:\n",
    "        raise ValueError(\"O número de qubits deve ser par.\")\n",
    "    \n",
    "    qc = QuantumCircuit(n)\n",
    "\n",
    "    k = n//2\n",
    "    \n",
    "    # Phase 1\n",
    "    \n",
    "    n_cnots = (2**k) - k - 1 # Número de C-NOTs\n",
    "    contador = 0             # Conta o número de C-NOTs usados\n",
    "\n",
    "    # Loop para gerar todas as combinações possíveis de controle e alvo\n",
    "    while contador < n_cnots:\n",
    "        for i in range(k):  # Controle\n",
    "            for j in range(i + 1, k):  # Alvo (sempre maior que o controle)\n",
    "                qc.cx(i, j)  # Adiciona o par (controle, alvo)\n",
    "                contador += 1\n",
    "                if contador == n_cnots:  # Se atingir o número exato, sai do loop\n",
    "                    break\n",
    "            if contador == n_cnots:\n",
    "                break\n",
    "\n",
    "    # Phase 2\n",
    "\n",
    "    for i in range(k):\n",
    "        qc.cx(i, i+k)\n",
    "    \n",
    "    # Phase 3 & 4\n",
    "\n",
    "    for i in range(k):\n",
    "        qc.cx((i*2) + 1, i*2)\n",
    "        qc.cx(i*2, (i*2) + 1)\n",
    "        qc.cx((i*2) + 1, i*2)\n",
    "\n",
    "    return qc\n",
    "\n",
    "# Exemplo de uso\n",
    "n = 2\n",
    "qc = preparacao_de_estados(n)\n",
    "qc.draw()"
   ]
  },
  {
   "cell_type": "code",
   "execution_count": 57,
   "metadata": {},
   "outputs": [
    {
     "name": "stdout",
     "output_type": "stream",
     "text": [
      " > Counts: {'0000': 1024}\n"
     ]
    }
   ],
   "source": [
    "qc.measure_all()\n",
    "\n",
    "# initialization of the sampler\n",
    "sampler = Sampler()\n",
    "\n",
    "job = sampler.run([qc])\n",
    "result = job.result()\n",
    "print(f\" > Counts: {result[0].data.meas.get_counts()}\")"
   ]
  },
  {
   "cell_type": "code",
   "execution_count": 41,
   "metadata": {},
   "outputs": [
    {
     "data": {
      "text/plain": [
       "{np.str_('00'): np.float64(0.4999999999999999),\n",
       " np.str_('01'): np.float64(0.4999999999999999)}"
      ]
     },
     "execution_count": 41,
     "metadata": {},
     "output_type": "execute_result"
    }
   ],
   "source": [
    "sv = Statevector.from_label(\"0+\")\n",
    "sv.probabilities_dict()"
   ]
  },
  {
   "cell_type": "markdown",
   "metadata": {},
   "source": [
    "Quantum Error Correction - QEC"
   ]
  },
  {
   "cell_type": "code",
   "execution_count": null,
   "metadata": {},
   "outputs": [],
   "source": []
  }
 ],
 "metadata": {
  "kernelspec": {
   "display_name": "lab",
   "language": "python",
   "name": "python3"
  },
  "language_info": {
   "codemirror_mode": {
    "name": "ipython",
    "version": 3
   },
   "file_extension": ".py",
   "mimetype": "text/x-python",
   "name": "python",
   "nbconvert_exporter": "python",
   "pygments_lexer": "ipython3",
   "version": "3.13.0"
  }
 },
 "nbformat": 4,
 "nbformat_minor": 2
}
